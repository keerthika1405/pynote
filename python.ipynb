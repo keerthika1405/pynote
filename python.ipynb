{
 "cells": [
  {
   "cell_type": "code",
   "execution_count": 432,
   "metadata": {},
   "outputs": [
    {
     "name": "stdout",
     "output_type": "stream",
     "text": [
      "dlrow olleh\n"
     ]
    }
   ],
   "source": [
    "string=\"hello world\"#reversing the string\n",
    "rev_string=string[::-1]\n",
    "print(rev_string)"
   ]
  },
  {
   "cell_type": "code",
   "execution_count": 433,
   "metadata": {},
   "outputs": [
    {
     "name": "stdout",
     "output_type": "stream",
     "text": [
      "substring found\n"
     ]
    }
   ],
   "source": [
    "string=\"hello world\" #string contain in substring\n",
    "sub_string=\"hello\"\n",
    "if sub_string in string:\n",
    "    print(\"substring found\")"
   ]
  },
  {
   "cell_type": "code",
   "execution_count": 434,
   "metadata": {},
   "outputs": [
    {
     "name": "stdout",
     "output_type": "stream",
     "text": [
      "8.9\n"
     ]
    }
   ],
   "source": [
    "my_list=[1,2,3,4,5,6.7,8.9,8.0] #max value in list\n",
    "my_value=max(my_list)\n",
    "print(my_value)"
   ]
  },
  {
   "cell_type": "code",
   "execution_count": 435,
   "metadata": {},
   "outputs": [
    {
     "name": "stdout",
     "output_type": "stream",
     "text": [
      "8\n",
      "8\n",
      "{1, 2, 3, 4, 5}\n",
      "all element are unique\n"
     ]
    }
   ],
   "source": [
    "my_list=[1,2,3,4,5,6,7,8]# check all element in list are unique\n",
    "my_list1=[1,2,3,3,4,4,5]\n",
    "print(len(my_list))\n",
    "print(len(set(my_list)))\n",
    "print(set(my_list1))\n",
    "\n",
    "if len(my_list) == len(set(my_list)):\n",
    "    print(\"all element are unique\")"
   ]
  },
  {
   "cell_type": "code",
   "execution_count": 436,
   "metadata": {},
   "outputs": [
    {
     "name": "stdout",
     "output_type": "stream",
     "text": [
      "[1, 2, 4, 1, 2]\n"
     ]
    }
   ],
   "source": [
    "my_list=[1,2,3,3,3,4,1,2,3]#remove all occurence of item from a list\n",
    "item=3\n",
    "my_list=[x for x in my_list if x!=item]\n",
    "print(my_list)"
   ]
  },
  {
   "cell_type": "code",
   "execution_count": 437,
   "metadata": {},
   "outputs": [
    {
     "name": "stdout",
     "output_type": "stream",
     "text": [
      "[1, 2, 3, 4, 5, 6]\n"
     ]
    }
   ],
   "source": [
    "my_list=[[1,2],[3,4],[5,6]] #flattening the nested list\n",
    "flatted_list=[x for sublist in my_list for x in sublist]\n",
    "print(flatted_list)"
   ]
  },
  {
   "cell_type": "code",
   "execution_count": 438,
   "metadata": {},
   "outputs": [
    {
     "name": "stdout",
     "output_type": "stream",
     "text": [
      "{'one': 1, 'two': 2, 'three': 3, 'four': 4}\n"
     ]
    }
   ],
   "source": [
    "dic={\"one\":1,\"two\":2}#merge two dictionary\n",
    "dic1={\"three\":3,\"four\":4}\n",
    "merge_dic={**dic,**dic1}\n",
    "print(merge_dic)"
   ]
  },
  {
   "cell_type": "code",
   "execution_count": 439,
   "metadata": {},
   "outputs": [
    {
     "name": "stdout",
     "output_type": "stream",
     "text": [
      "helloworld\n"
     ]
    }
   ],
   "source": [
    "string=\"  h ello w or  l d\" #remove all whitespace from string\n",
    "new_string=\"\".join(string.split())\n",
    "print(new_string)\n"
   ]
  },
  {
   "cell_type": "code",
   "execution_count": 440,
   "metadata": {},
   "outputs": [
    {
     "name": "stdout",
     "output_type": "stream",
     "text": [
      "string is palindrome\n"
     ]
    }
   ],
   "source": [
    "string=\"racecar\" #check string is palindrome\n",
    "if string == string[::-1]:\n",
    "    print(\"string is palindrome\")"
   ]
  },
  {
   "cell_type": "code",
   "execution_count": 441,
   "metadata": {},
   "outputs": [
    {
     "name": "stdout",
     "output_type": "stream",
     "text": [
      "{1: 'c', 2: 'd', 3: 'b', 4: 'a'}\n",
      "{'c': 1, 'd': 2, 'b': 3, 'a': 4}\n"
     ]
    }
   ],
   "source": [
    "dic={'a':4,'b':3,'c':1,'d':2}\n",
    "sort_dic={v:k for k,v in sorted(dic.items(),key=lambda item:item[1])}#sort dictionary by value\n",
    "sort_dic1={k:v for k,v in sorted(dic.items(),key=lambda item:item[1])}#sort dictionary by key\n",
    "print(sort_dic)\n",
    "print(sort_dic1)\n"
   ]
  },
  {
   "cell_type": "code",
   "execution_count": 442,
   "metadata": {},
   "outputs": [],
   "source": [
    "import os\n",
    "if os.path.isfile(\"file.text\"):\n",
    "    print(\"file exists!\")"
   ]
  },
  {
   "cell_type": "code",
   "execution_count": 443,
   "metadata": {},
   "outputs": [
    {
     "name": "stdout",
     "output_type": "stream",
     "text": [
      "4 times the 2 number is print in list\n"
     ]
    }
   ],
   "source": [
    "my_list=[1,2,2,4,6,2,8,2]\n",
    "occured_list=my_list.count(2)\n",
    "print(occured_list,\"times the 2 number is print in list\")"
   ]
  },
  {
   "cell_type": "code",
   "execution_count": 444,
   "metadata": {},
   "outputs": [
    {
     "name": "stdout",
     "output_type": "stream",
     "text": [
      "['h', 'e', 'l', 'l', 'o', ' ', 'w', 'o', 'r', 'l', 'd']\n"
     ]
    }
   ],
   "source": [
    "string=\"hello world\" #convert string to list\n",
    "my_list=list(string)\n",
    "print(my_list)"
   ]
  },
  {
   "cell_type": "code",
   "execution_count": 445,
   "metadata": {},
   "outputs": [
    {
     "name": "stdout",
     "output_type": "stream",
     "text": [
      "oehdrwl\n"
     ]
    }
   ],
   "source": [
    "string=\"helloworld\"\n",
    "new_string=''.join(set(string))\n",
    "print(new_string)"
   ]
  },
  {
   "cell_type": "markdown",
   "metadata": {},
   "source": []
  }
 ],
 "metadata": {
  "kernelspec": {
   "display_name": "base",
   "language": "python",
   "name": "python3"
  },
  "language_info": {
   "codemirror_mode": {
    "name": "ipython",
    "version": 3
   },
   "file_extension": ".py",
   "mimetype": "text/x-python",
   "name": "python",
   "nbconvert_exporter": "python",
   "pygments_lexer": "ipython3",
   "version": "3.9.13"
  },
  "orig_nbformat": 4
 },
 "nbformat": 4,
 "nbformat_minor": 2
}
